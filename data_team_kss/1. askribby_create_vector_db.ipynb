{
 "cells": [
  {
   "cell_type": "code",
   "execution_count": 1,
   "metadata": {},
   "outputs": [],
   "source": [
    "from langchain_community.document_loaders import ConcurrentLoader\n",
    "from langchain_text_splitters import RecursiveCharacterTextSplitter\n",
    "loader = ConcurrentLoader.from_filesystem(\"/home/leapfrog/llm/github/kss/data_team_kss/aggregated_content.txt\", glob=\"**/*.txt\")\n",
    "loaded_data = loader.load()\n",
    "leapfrog_confluence_data = loaded_data[0].page_content\n",
    "\n",
    "# Split\n",
    "text_splitter = RecursiveCharacterTextSplitter(chunk_size=1000, chunk_overlap=200)\n",
    "splits = text_splitter.create_documents([leapfrog_confluence_data])"
   ]
  },
  {
   "cell_type": "code",
   "execution_count": 2,
   "metadata": {},
   "outputs": [
    {
     "data": {
      "text/plain": [
       "34"
      ]
     },
     "execution_count": 2,
     "metadata": {},
     "output_type": "execute_result"
    }
   ],
   "source": [
    "len(splits)"
   ]
  },
  {
   "cell_type": "code",
   "execution_count": 4,
   "metadata": {},
   "outputs": [],
   "source": [
    "from langchain_cohere import CohereEmbeddings\n",
    "\n",
    "import os\n",
    "from dotenv import load_dotenv\n",
    "load_dotenv()\n",
    "os.environ['COHERE_API_KEY'] = os.getenv('COHERE_API_KEY')\n",
    "os.environ['PINECONE_API_KEY'] = os.getenv('PINECONE_API_KEY')\n",
    "\n",
    "embeddings = CohereEmbeddings()\n",
    "index_name = \"index-data-team-kss-slack\""
   ]
  },
  {
   "cell_type": "code",
   "execution_count": 5,
   "metadata": {},
   "outputs": [],
   "source": [
    "from pinecone import Pinecone, ServerlessSpec\n",
    "\n",
    "pc = Pinecone()\n",
    "\n",
    "if index_name not in pc.list_indexes().names():\n",
    "  # Create the index\n",
    "  pc.create_index(\n",
    "    name=index_name,\n",
    "    dimension=4096,\n",
    "    metric='cosine',\n",
    "    spec=ServerlessSpec(\n",
    "      cloud=\"aws\",\n",
    "      region=\"us-east-1\"\n",
    "    )\n",
    "  )\n",
    "\n",
    "index = pc.Index(index_name)"
   ]
  },
  {
   "cell_type": "code",
   "execution_count": 7,
   "metadata": {},
   "outputs": [
    {
     "name": "stdout",
     "output_type": "stream",
     "text": [
      "A vector index with this name already exists. It will be utilized.\n",
      "----------------------------\n",
      "{'dimension': 4096,\n",
      " 'index_fullness': 0.0,\n",
      " 'namespaces': {'': {'vector_count': 34}},\n",
      " 'total_vector_count': 34}\n"
     ]
    }
   ],
   "source": [
    "from langchain_pinecone import PineconeVectorStore\n",
    "from langchain_community.vectorstores import Pinecone\n",
    "\n",
    "# Check if there is already some data in the index on Pinecone\n",
    "if index.describe_index_stats()['total_vector_count'] > 0:\n",
    "    # If there is, use from_existing_index to use the vector store\n",
    "    vectorstore = Pinecone.from_existing_index(\n",
    "        index_name,\n",
    "        embeddings,\n",
    "    )\n",
    "    print(\"A vector index with this name already exists. It will be utilized.\")\n",
    "else:\n",
    "    # If there is not, use from_documents to fill the vector store\n",
    "    vectorstore = PineconeVectorStore.from_documents(\n",
    "        splits,\n",
    "        embeddings,\n",
    "        index_name=index_name\n",
    "    )\n",
    "    print(\"Vector index created successfully.\")\n",
    "\n",
    "print('--------------------------')\n",
    "print(index.describe_index_stats())"
   ]
  },
  {
   "cell_type": "code",
   "execution_count": null,
   "metadata": {},
   "outputs": [],
   "source": []
  }
 ],
 "metadata": {
  "kernelspec": {
   "display_name": "Python 3",
   "language": "python",
   "name": "python3"
  },
  "language_info": {
   "codemirror_mode": {
    "name": "ipython",
    "version": 3
   },
   "file_extension": ".py",
   "mimetype": "text/x-python",
   "name": "python",
   "nbconvert_exporter": "python",
   "pygments_lexer": "ipython3",
   "version": "3.10.12"
  }
 },
 "nbformat": 4,
 "nbformat_minor": 2
}
