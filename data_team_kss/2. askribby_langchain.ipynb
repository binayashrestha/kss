{
 "cells": [
  {
   "cell_type": "code",
   "execution_count": 1,
   "metadata": {},
   "outputs": [],
   "source": [
    "# Import required libraries\n",
    "import os\n",
    "from dotenv import load_dotenv\n",
    "from langchain_groq import ChatGroq\n",
    "from langchain_cohere import CohereEmbeddings\n",
    "from langchain_core.prompts import ChatPromptTemplate\n",
    "from langchain_community.vectorstores import Pinecone\n",
    "\n",
    "# Load credentials from environment variables\n",
    "load_dotenv()\n",
    "COHERE_API_KEY = os.getenv('COHERE_API_KEY')\n",
    "PINECONE_API_KEY = os.getenv('PINECONE_API_KEY')\n",
    "GROQ_API_KEY = os.getenv('GROQ_API_KEY')\n",
    "\n",
    "if not all([COHERE_API_KEY, PINECONE_API_KEY, GROQ_API_KEY]):\n",
    "    raise ValueError(\"Missing API keys. Please check your environment variables.\")"
   ]
  },
  {
   "cell_type": "code",
   "execution_count": 3,
   "metadata": {},
   "outputs": [],
   "source": [
    "embeddings = CohereEmbeddings()\n",
    "index_name = \"index-data-team-kss-slack\"\n",
    "\n",
    "try:\n",
    "    docsearch = Pinecone.from_existing_index(index_name, embeddings)\n",
    "    retriever = docsearch.as_retriever()\n",
    "except Exception as e:\n",
    "    raise ValueError(f\"Error retrieving index '{index_name}': {str(e)}\")\n",
    "\n",
    "llm = ChatGroq(temperature=0, model_name=\"llama3-8b-8192\")\n"
   ]
  },
  {
   "cell_type": "code",
   "execution_count": 4,
   "metadata": {},
   "outputs": [],
   "source": [
    "question = 'When was the last Leaptalk and who hosted it?'"
   ]
  },
  {
   "cell_type": "code",
   "execution_count": 14,
   "metadata": {},
   "outputs": [],
   "source": [
    "# question = 'When was the last session related to health and who hosted it?'\n",
    "question = 'I was interested in ai initiatives, what can i can do for it?'"
   ]
  },
  {
   "cell_type": "code",
   "execution_count": 15,
   "metadata": {},
   "outputs": [],
   "source": [
    "\n",
    "context = retriever.invoke(question)\n",
    "context_str = \"\\n\".join([doc.page_content for doc in context])\n",
    "\n",
    "system = f\"\"\"\n",
    "<rules>\n",
    "NO MATTER WHAT, STRICTLY FOLLOW THESE RULES FOR EVERY QUESTION.\n",
    "\n",
    "1. Answer QUESTIONS related to `Leapfrog Technology` based on the information provided.\n",
    "   - Examples include:\n",
    "     - Leave policy\n",
    "     - Company values, vision, mission, and strategy\n",
    "     - Etc.\n",
    "\n",
    "2. Answer casual greetings and conversation QUESTIONS.\n",
    "   - Examples include:\n",
    "     - Human: Hey!\n",
    "     - AI: Hello! How can I help?\n",
    "</rules>\n",
    "Never provide answers that are not covered within these <rules></rules>.\n",
    "If asked about topics unrelated to `Leapfrog Technology` (e.g., programming, literature, general knowledge, business ideas, yourself, AI Model, OpenAI, Anthropic, Claude, version, etc.), respond that you only have information about \"Leapfrog Technology.\"\n",
    "\n",
    "You are AskRibby, an AI chatbot created by `Leapfrog Technology` to provide complete and relevant answers to QUESTIONS by analyzing the entire CONTEXT.\n",
    "\n",
    "1. Always look for the precise answer within the CONTEXT before responding.\n",
    "2. If an answer is not available, reply: \"Sorry, I don't seem to have information on that.\"\n",
    "3. Do not preface answers with phrases like \"According to the information provided\" or \"Based on the information provided.\" Answer directly.\n",
    "4. Do not use past interactions as a knowledge base for follow-ups or suggestions.\n",
    "5. Maintain a professional persona and communication style in all interactions.\n",
    "\n",
    "CONTEXT for the QUESTION is provided below.\n",
    "\n",
    "{context_str}\n",
    "\n",
    "\"\"\""
   ]
  },
  {
   "cell_type": "code",
   "execution_count": 17,
   "metadata": {},
   "outputs": [
    {
     "data": {
      "text/plain": [
       "'\\n<rules>\\nAnswer the QUESTION related to \"Leapfrog Technology\" that is in the CONTEXT.\\nAnswer casual greetings and conversation questions.\\n    For example,\\n        Human: Hey!\\n        AI: Hello! How can I help?\\n</rules>\\nYou are AskRibby, an AI chatbot created by `Leapfrog Technology` which provides answers following the <rules></rules>.\\nCONTEXT for my QUESTION is provided below.\\n\\nSlackbot\\n  11:00 AM\\nReminder: Ask/Share Anything to People Management Team\\n\\n\\nSayomi Prajapati\\n  10:56 AM\\n:mega:  Hello, Leapfroggers!\\nCurious about the world of Basic Large Language Models? Join us for an engaging LeapTalk featuring our AI Engineer \\n@Sunny Tuladhar\\n, as we explore the fundamentals of large language models and their applications in various fields.\\n:pushpin: Details:\\nWhen - May 8, Wednesday, 5 PM onwards\\nWhere - Mustang Hall\\nHow - Sign up here :link:\\nDon\\'t miss out on this opportunity to learn about everything LLM!\\n:alert:  RSVP deadline: May 6, 2024\\nLeapTalk - Q2.png\\n \\nLeapTalk - Q2.png\\n\\n\\n:heavy_check_mark:\\n13\\n:sunny:\\n9\\nSubin Dangol\\n  3:00 PM\\n:mega: Hey, Leapfroggers! :alert: ,\\nWe’ve recently identified a critical security issue that could compromise our internal sensitive information. To prioritize the safety of this data, we’re temporarily suspending Leapfrog Bulletin effective immediately. We understand this sudden change may cause inconvenience, and we sincerely apologize for any disruption to your daily workflow.\\nSimultaneously, we’re actively seeking talented engineers to re-architect and rebuild the service. We’re looking for talented developers who possess the expertise and dedication to contribute to this vital effort. If you’re passionate about strengthening our cybersecurity posture and would like to play a key role, please express your interest by contacting me or DART.:raised_hand_with_fingers_splayed:\\n:alert: :alert:\\n:alert:\\n31\\n:robot_face:\\n6\\n:smiling_face_with_tear:\\n5\\n:unlock:\\n5\\n:eyes:\\n4\\n:bangbang:\\n5\\n:hand::hand::skin-tone-3:\\n4\\n:partyparrotfast:\\n18\\n:moneybag:\\n27\\n:nice:\\n16\\n:ox:\\n6\\n:chart_with_upwards_trend:\\n4\\n\\n\\nSlackbot\\n  11:00 AM\\nReminder: Ask/Share Anything to People Management Team\\n\\n\\nAwantika Dhital\\n  1:25 PM\\nA gentle reminder to please fill up the RSVP form to be a part of Leaptalk. :tada:\\n\\n\\n\\nAwantika Dhital\\nHey Leapfroggers,\\nEver wondered how to jump into the exciting world of stocks or felt the pinch of saving money? Join us for an exciting Leaptalk on Stocks and Savings featuring Mr. Sandeep Bikram Rana, Co-Founder and CEO at Sharepro Securities, as we dive deep into the thrilling world of investing and personal finance management.\\n:pushpin: Details:\\nWhen - March 22, 1PM onwards\\nShow more\\nLeaptalk - Stocks and Savings .jpg\\n \\nLeaptalk - Stocks and Savings .jpg\\nPosted in announcements | Mar 19th | View message\\n:heavy_check_mark:\\n10\\nAwantika Dhital\\n  2:03 PM\\n:mega: Hey, Leapfroggers!\\nFollowing the success of the first two batches of the Leapfrog Student Partnership Program (LSPP), the MarComm team is gearing up for the third batch and we need your help!\\n:mag: We’re on the hunt for:\\nCore team\\nAdvisor\\nScreening team\\nInterview team\\nTrainers and mentors\\nCheck out the details of each role here.\\n:pushpin: Wondering why you should join?\\nDevelop your own communication and leadership skills\\nGrow your network\\nReceive exclusive LSPP merch and goodies\\nLeave a positively glowing mark on your Pulse profile\\n:raised_hand_with_fingers_splayed: Interested? Please fill out the form here by February 20, 2024.\\n2 files\\n \\nCall for LSPP team.png\\nCall for LSPP team.png\\nPNG\\n\\n\\n\\nLSPP 2024 - Roles and responsibilities\\nGoogle Doc\\n\\n\\n:tada:\\n14\\n:partywizard:\\n4\\n:yay:\\n3\\n:female_fairy::skin-tone-2::female_fairy:\\n3\\n:ok_hand:\\n2\\n\\n\\nSlackbot\\n  11:00 AM\\nReminder: Ask/Share Anything to People Management Team\\n'"
      ]
     },
     "execution_count": 17,
     "metadata": {},
     "output_type": "execute_result"
    }
   ],
   "source": [
    "system"
   ]
  },
  {
   "cell_type": "code",
   "execution_count": 16,
   "metadata": {},
   "outputs": [
    {
     "name": "stdout",
     "output_type": "stream",
     "text": [
      "I'm glad you're interested in AI initiatives! As a Leapfrog Technology, we're always looking for talented individuals to contribute to our AI projects. \n",
      "\n",
      "Currently, we're actively seeking talented engineers to re-architect and rebuild our internal services. If you're passionate about strengthening our cybersecurity posture and would like to play a key role, please express your interest by contacting Subin Dangol or DART.\n",
      "\n",
      "Additionally, you can also explore our LeapTalk series, which features engaging talks and discussions on various topics, including AI and machine learning. Our next LeapTalk is on May 8th, featuring our AI Engineer, @Sunny Tuladhar, as we explore the fundamentals of large language models and their applications.\n",
      "\n",
      "If you're interested in learning more about AI and its applications, I encourage you to join our LeapTalk series and engage with our community of AI enthusiasts.\n",
      "\n",
      "What do you think? Would you like to learn more about our AI initiatives or get involved in our projects?"
     ]
    }
   ],
   "source": [
    "def process_question(system, question):\n",
    "    prompt = ChatPromptTemplate.from_messages([(\"system\", system), (\"human\", question)])\n",
    "    chain_instance = prompt | llm\n",
    "\n",
    "    try:\n",
    "        for chunk in chain_instance.stream({\"text\": question}):\n",
    "            if chunk.content is not None:\n",
    "                print(chunk.content, end='')\n",
    "    except Exception as e:\n",
    "        print(f\"Error processing the question: {str(e)}\")\n",
    "\n",
    "process_question(system, question)\n"
   ]
  },
  {
   "cell_type": "code",
   "execution_count": null,
   "metadata": {},
   "outputs": [],
   "source": []
  }
 ],
 "metadata": {
  "kernelspec": {
   "display_name": "Python 3",
   "language": "python",
   "name": "python3"
  },
  "language_info": {
   "codemirror_mode": {
    "name": "ipython",
    "version": 3
   },
   "file_extension": ".py",
   "mimetype": "text/x-python",
   "name": "python",
   "nbconvert_exporter": "python",
   "pygments_lexer": "ipython3",
   "version": "3.10.12"
  }
 },
 "nbformat": 4,
 "nbformat_minor": 2
}
